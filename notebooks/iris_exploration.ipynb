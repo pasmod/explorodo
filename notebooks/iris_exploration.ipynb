{
 "cells": [
  {
   "cell_type": "markdown",
   "metadata": {},
   "source": [
    "# xPlore: Automatic Explorative Data Analysis"
   ]
  },
  {
   "cell_type": "markdown",
   "metadata": {},
   "source": [
    "xPlore is a tool for automatic generation of explorative data analysis reports. Many of the stages of explorative data analysis have a repetitive nature and can be automated. This notebook is generated automatically using xPlore and can be used as a template for further explorative data analysis steps."
   ]
  },
  {
   "cell_type": "markdown",
   "metadata": {},
   "source": [
    "### Read the Data into a Dataframe"
   ]
  },
  {
   "cell_type": "code",
   "execution_count": null,
   "metadata": {},
   "outputs": [],
   "source": [
    "def read():\n",
    "    import pandas as pd\n",
    "\n",
    "    df = pd.read_csv(\"resources/iris.csv\", low_memory=False)\n",
    "    return df"
   ]
  },
  {
   "cell_type": "code",
   "execution_count": null,
   "metadata": {},
   "outputs": [],
   "source": [
    "df = read()"
   ]
  },
  {
   "cell_type": "markdown",
   "metadata": {},
   "source": [
    "### Head of the Dataframe"
   ]
  },
  {
   "cell_type": "code",
   "execution_count": null,
   "metadata": {},
   "outputs": [],
   "source": [
    "def head(df):\n",
    "    return df.head()"
   ]
  },
  {
   "cell_type": "code",
   "execution_count": null,
   "metadata": {},
   "outputs": [],
   "source": [
    "head(df)"
   ]
  },
  {
   "cell_type": "markdown",
   "metadata": {},
   "source": [
    "### Shape of the Dataframe"
   ]
  },
  {
   "cell_type": "code",
   "execution_count": null,
   "metadata": {},
   "outputs": [],
   "source": [
    "def shape(df):\n",
    "    return df.shape"
   ]
  },
  {
   "cell_type": "code",
   "execution_count": null,
   "metadata": {},
   "outputs": [],
   "source": [
    "shape(df)"
   ]
  },
  {
   "cell_type": "markdown",
   "metadata": {},
   "source": [
    "### Types of Columns"
   ]
  },
  {
   "cell_type": "code",
   "execution_count": null,
   "metadata": {},
   "outputs": [],
   "source": [
    "def column_types(df):\n",
    "    import numpy as np\n",
    "\n",
    "    numerical_columns = list(df.select_dtypes(include=[np.number]).columns)\n",
    "    non_numerical_columns = list(df.select_dtypes(exclude=[np.number]).columns)\n",
    "    return numerical_columns, non_numerical_columns"
   ]
  },
  {
   "cell_type": "code",
   "execution_count": null,
   "metadata": {},
   "outputs": [],
   "source": [
    "numerical_columns, non_numerical_columns = column_types(df)\n",
    "print(\"Numerical columns:\", numerical_columns)\n",
    "print(\"Non-numerical columns:\", non_numerical_columns)"
   ]
  },
  {
   "cell_type": "markdown",
   "metadata": {},
   "source": [
    "### Percentage of Missing Values in Columns"
   ]
  },
  {
   "cell_type": "code",
   "execution_count": null,
   "metadata": {},
   "outputs": [],
   "source": [
    "def missing_values_percentage(df):\n",
    "    import pandas as pd\n",
    "\n",
    "    percent_missing = df.isnull().sum() * 100 / len(df)\n",
    "    missing_value_df = pd.DataFrame(\n",
    "        {\"column_name\": df.columns, \"percent_missing\": percent_missing}\n",
    "    )\n",
    "    return missing_value_df"
   ]
  },
  {
   "cell_type": "code",
   "execution_count": null,
   "metadata": {},
   "outputs": [],
   "source": [
    "missing_values_percentage_df = missing_values_percentage(df)\n",
    "missing_values_percentage_df"
   ]
  },
  {
   "cell_type": "markdown",
   "metadata": {},
   "source": [
    "### Pairwise Correlation between columns"
   ]
  },
  {
   "cell_type": "code",
   "execution_count": null,
   "metadata": {},
   "outputs": [],
   "source": [
    "def pairwise_correlation_between_columns(df):\n",
    "    import seaborn as sns\n",
    "\n",
    "    sns.heatmap(df.corr(), vmin=-1, vmax=1, annot=True)"
   ]
  },
  {
   "cell_type": "code",
   "execution_count": null,
   "metadata": {},
   "outputs": [],
   "source": [
    "pairwise_correlation_between_columns(df)"
   ]
  },
  {
   "cell_type": "markdown",
   "metadata": {},
   "source": [
    "### Pairwise Scatter Plots"
   ]
  },
  {
   "cell_type": "code",
   "execution_count": null,
   "metadata": {},
   "outputs": [],
   "source": [
    "def pairwise_scatter_plots(df, target_values=None, features=None):\n",
    "    import seaborn as sns\n",
    "\n",
    "    sns.pairplot(df[df[\"class\"].isin(list(target_values))][list(features)])\n",
    "\n",
    "def interact():\n",
    "    from ipywidgets import interactive, fixed, widgets, interact_manual\n",
    "    from IPython.display import display\n",
    "    from ipywidgets import AppLayout, Button, Layout\n",
    "\n",
    "    target_values_options = list(df[\"class\"].unique())\n",
    "\n",
    "    features_options = list(df.columns.values)\n",
    "    features_options.remove(\"class\")\n",
    "    w1 = widgets.SelectMultiple(\n",
    "        options=target_values_options,\n",
    "        value=target_values_options,\n",
    "        rows=len(target_values_options),\n",
    "        description=\"Target Values (column: class)\",\n",
    "        style={'description_width': 'initial'},\n",
    "        disabled=False,\n",
    "    )\n",
    "    w2 = widgets.SelectMultiple(\n",
    "        options=features_options,\n",
    "        value=features_options[0 : min(len(features_options), 2)],\n",
    "        rows=len(features_options),\n",
    "        description=\"Features\",\n",
    "        disabled=False,\n",
    "    )\n",
    "\n",
    "    ui = widgets.HBox([w1, w2])\n",
    "    out = widgets.interactive_output(\n",
    "        pairwise_scatter_plots,\n",
    "        {\"df\": fixed(df), \"target_values\": w1, \"features\": w2},\n",
    "    )\n",
    "\n",
    "    display(ui, out)"
   ]
  },
  {
   "cell_type": "code",
   "execution_count": null,
   "metadata": {},
   "outputs": [],
   "source": [
    "interact()"
   ]
  },
  {
   "cell_type": "markdown",
   "metadata": {},
   "source": [
    "### Distribution of Target Variable"
   ]
  },
  {
   "cell_type": "code",
   "execution_count": null,
   "metadata": {},
   "outputs": [],
   "source": [
    "def distribution_of_target_variable(df):\n",
    "    return df[\"class\"].value_counts()"
   ]
  },
  {
   "cell_type": "code",
   "execution_count": null,
   "metadata": {},
   "outputs": [],
   "source": [
    "dist_target_variable = distribution_of_target_variable(df)\n",
    "dist_target_variable"
   ]
  },
  {
   "cell_type": "code",
   "execution_count": null,
   "metadata": {},
   "outputs": [],
   "source": [
    "def plot_distribution_of_target_variable(dist_target_variable):\n",
    "    import matplotlib.pyplot as plt\n",
    "\n",
    "    df[\"class\"].value_counts().plot(kind=\"bar\")\n",
    "    plt.xticks(rotation=\"horizontal\")\n",
    "    plt.xlabel(\"Target Variable: class\")\n",
    "    plt.ylabel(\"Count\")\n",
    "    plt.title(\"Distribution of Target Variable: class\")\n",
    "    plt.show()"
   ]
  },
  {
   "cell_type": "code",
   "execution_count": null,
   "metadata": {},
   "outputs": [],
   "source": [
    "plot_distribution_of_target_variable(dist_target_variable)"
   ]
  }
 ],
 "metadata": {},
 "nbformat": 4,
 "nbformat_minor": 2
}
